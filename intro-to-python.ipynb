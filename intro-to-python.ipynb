{
 "cells": [
  {
   "cell_type": "code",
   "execution_count": 6,
   "metadata": {},
   "outputs": [
    {
     "name": "stdout",
     "output_type": "stream",
     "text": [
      "Sean 185.4 4 True\n"
     ]
    }
   ],
   "source": [
    "# introduction to variables\n",
    "# We often need to pick a name for a data to be remembered \n",
    "# so we can use that symbolic name to retrieve the data later. \n",
    "# We use the term variable to refer to the labels we use to refer to this stored data.\n",
    "\n",
    "first_name = \"Kevin\"\n",
    "height = 185.5\n",
    "wheels = 4\n",
    "isTall = True\n",
    "\n",
    "print(first_name, height, wheels, isTall)\n",
    "\n",
    "# The variables are: first_name, height, wheels, isTall\n",
    "# The data is: \"Sean\", 185.5, 4, True\n",
    "    \n",
    "#Python mostly does not care what you call variables as long as they start with a letter. \n",
    "#There are only a few special variables names it keeps aside for its own special uses \n"
   ]
  },
  {
   "cell_type": "code",
   "execution_count": 7,
   "metadata": {},
   "outputs": [
    {
     "name": "stdout",
     "output_type": "stream",
     "text": [
      "coffee\n",
      "tastes\n",
      "terrible\n",
      "True\n"
     ]
    }
   ],
   "source": [
    "#These variable names also valid, but are not as good as the previous ones.\n",
    "#Make sure your variable names tell you what is inside of them!\n",
    "#single letter names are usually a mistake. Learn how to type!\n",
    "\n",
    "x1 = 'coffee'\n",
    "y = 'tastes'\n",
    "z = \"terrible\"\n",
    "a1 = True\n",
    "\n",
    "print(x1)\n",
    "print(y)\n",
    "print(z)\n",
    "print(a1)"
   ]
  },
  {
   "cell_type": "code",
   "execution_count": 9,
   "metadata": {},
   "outputs": [
    {
     "name": "stdout",
     "output_type": "stream",
     "text": [
      "5\n",
      "6\n",
      "3.1416\n"
     ]
    }
   ],
   "source": [
    "#can also do this if you are in a hurry!\n",
    "a,b,c = 5,6,3.1416\n",
    "print(a)\n",
    "print(b)\n",
    "print(c)"
   ]
  },
  {
   "cell_type": "code",
   "execution_count": 12,
   "metadata": {},
   "outputs": [
    {
     "name": "stdout",
     "output_type": "stream",
     "text": [
      "a is  5\n",
      "a is now 125\n"
     ]
    }
   ],
   "source": [
    "# Caution. Python will happily write over your data if you give its name to new data!\n",
    "\n",
    "a = 5\n",
    "print(\"a is \", a)\n",
    "a = 125\n",
    "print(\"a is now\", a)\n",
    "\n",
    "# the data that was originally in the variable a is lost forever."
   ]
  },
  {
   "cell_type": "code",
   "execution_count": null,
   "metadata": {},
   "outputs": [],
   "source": []
  }
 ],
 "metadata": {
  "kernelspec": {
   "display_name": "Python 3",
   "language": "python",
   "name": "python3"
  },
  "language_info": {
   "codemirror_mode": {
    "name": "ipython",
    "version": 3
   },
   "file_extension": ".py",
   "mimetype": "text/x-python",
   "name": "python",
   "nbconvert_exporter": "python",
   "pygments_lexer": "ipython3",
   "version": "3.6.5"
  }
 },
 "nbformat": 4,
 "nbformat_minor": 2
}
